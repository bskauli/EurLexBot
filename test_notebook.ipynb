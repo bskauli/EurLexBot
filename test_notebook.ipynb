{
 "cells": [
  {
   "cell_type": "code",
   "execution_count": 2,
   "metadata": {},
   "outputs": [],
   "source": [
    "from bs4 import BeautifulSoup"
   ]
  },
  {
   "cell_type": "code",
   "execution_count": 34,
   "metadata": {},
   "outputs": [],
   "source": [
    "with open('./dlt_pilot.html') as file:\n",
    "    html = file.read()\n",
    "\n",
    "# Create a BeautifulSoup object\n",
    "soup = BeautifulSoup(html, 'lxml-xml')"
   ]
  },
  {
   "cell_type": "code",
   "execution_count": 38,
   "metadata": {},
   "outputs": [
    {
     "data": {
      "text/plain": [
       "[<p class=\"oj-doc-ti\" id=\"d1e39-1-1\">REGULATION (EU) 2022/858 OF THE EUROPEAN PARLIAMENT AND OF THE COUNCIL</p>,\n",
       " <p class=\"oj-doc-ti\">of 30 May 2022</p>,\n",
       " <p class=\"oj-doc-ti\">on a pilot regime for market infrastructures based on distributed ledger technology, and amending Regulations (EU) No 600/2014 and (EU) No 909/2014 and Directive 2014/65/EU</p>,\n",
       " <p class=\"oj-doc-ti\">(Text with EEA relevance)</p>]"
      ]
     },
     "execution_count": 38,
     "metadata": {},
     "output_type": "execute_result"
    }
   ],
   "source": [
    "soup.find_all('p', class_='oj-doc-ti')"
   ]
  },
  {
   "cell_type": "code",
   "execution_count": 39,
   "metadata": {},
   "outputs": [
    {
     "data": {
      "text/plain": [
       "[<p class=\"oj-ti-art\" id=\"d1e672-1-1\">Article 1</p>,\n",
       " <p class=\"oj-ti-art\" id=\"d1e717-1-1\">Article 2</p>,\n",
       " <p class=\"oj-ti-art\" id=\"d1e966-1-1\">Article 3</p>,\n",
       " <p class=\"oj-ti-art\" id=\"d1e1048-1-1\">Article 4</p>,\n",
       " <p class=\"oj-ti-art\" id=\"d1e1172-1-1\">Article 5</p>,\n",
       " <p class=\"oj-ti-art\" id=\"d1e1415-1-1\">Article 6</p>,\n",
       " <p class=\"oj-ti-art\" id=\"d1e1506-1-1\">Article 7</p>,\n",
       " <p class=\"oj-ti-art\" id=\"d1e1630-1-1\">Article 8</p>,\n",
       " <p class=\"oj-ti-art\" id=\"d1e1861-1-1\">Article 9</p>,\n",
       " <p class=\"oj-ti-art\" id=\"d1e2108-1-1\">Article 10</p>,\n",
       " <p class=\"oj-ti-art\" id=\"d1e2336-1-1\">Article 11</p>,\n",
       " <p class=\"oj-ti-art\" id=\"d1e2466-1-1\">Article 12</p>,\n",
       " <p class=\"oj-ti-art\" id=\"d1e2486-1-1\">Article 13</p>,\n",
       " <p class=\"oj-ti-art\" id=\"d1e2493-1-1\">Article 14</p>,\n",
       " <p class=\"oj-ti-art\" id=\"d1e2640-1-1\">Article 15</p>,\n",
       " <p class=\"oj-ti-art\" id=\"d1e2650-1-1\">Article 16</p>,\n",
       " <p class=\"oj-ti-art\" id=\"d1e2670-1-1\">Article 17</p>,\n",
       " <p class=\"oj-ti-art\" id=\"d1e2684-1-1\">Article 18</p>,\n",
       " <p class=\"oj-ti-art\" id=\"d1e2747-1-1\">Article 19</p>]"
      ]
     },
     "execution_count": 39,
     "metadata": {},
     "output_type": "execute_result"
    }
   ],
   "source": [
    "soup.find_all('p', class_='oj-ti-art')"
   ]
  },
  {
   "cell_type": "code",
   "execution_count": null,
   "metadata": {},
   "outputs": [],
   "source": []
  }
 ],
 "metadata": {
  "kernelspec": {
   "display_name": "eurlex",
   "language": "python",
   "name": "python3"
  },
  "language_info": {
   "codemirror_mode": {
    "name": "ipython",
    "version": 3
   },
   "file_extension": ".py",
   "mimetype": "text/x-python",
   "name": "python",
   "nbconvert_exporter": "python",
   "pygments_lexer": "ipython3",
   "version": "3.11.3"
  },
  "orig_nbformat": 4
 },
 "nbformat": 4,
 "nbformat_minor": 2
}
